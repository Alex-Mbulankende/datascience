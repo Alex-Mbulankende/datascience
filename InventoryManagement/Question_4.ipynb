{
 "cells": [
  {
   "cell_type": "code",
   "execution_count": 1,
   "metadata": {},
   "outputs": [],
   "source": [
    "import numpy as np\n",
    "import pandas as pd"
   ]
  },
  {
   "cell_type": "code",
   "execution_count": 2,
   "metadata": {},
   "outputs": [],
   "source": [
    "import matplotlib.pyplot as plt\n",
    "import seaborn as sns\n",
    "%matplotlib inline"
   ]
  },
  {
   "cell_type": "code",
   "execution_count": 3,
   "metadata": {},
   "outputs": [],
   "source": [
    "import scipy as sp"
   ]
  },
  {
   "cell_type": "code",
   "execution_count": 4,
   "metadata": {},
   "outputs": [],
   "source": [
    "import math"
   ]
  },
  {
   "cell_type": "code",
   "execution_count": 5,
   "metadata": {},
   "outputs": [],
   "source": [
    "sns.set_style('whitegrid')"
   ]
  },
  {
   "cell_type": "code",
   "execution_count": 6,
   "metadata": {},
   "outputs": [],
   "source": [
    "df = pd.read_excel('XYZ-1.xlsx', 'Data')"
   ]
  },
  {
   "cell_type": "code",
   "execution_count": 7,
   "metadata": {},
   "outputs": [
    {
     "data": {
      "text/html": [
       "<div>\n",
       "<style scoped>\n",
       "    .dataframe tbody tr th:only-of-type {\n",
       "        vertical-align: middle;\n",
       "    }\n",
       "\n",
       "    .dataframe tbody tr th {\n",
       "        vertical-align: top;\n",
       "    }\n",
       "\n",
       "    .dataframe thead th {\n",
       "        text-align: right;\n",
       "    }\n",
       "</style>\n",
       "<table border=\"1\" class=\"dataframe\">\n",
       "  <thead>\n",
       "    <tr style=\"text-align: right;\">\n",
       "      <th></th>\n",
       "      <th>Product</th>\n",
       "      <th>1</th>\n",
       "      <th>2</th>\n",
       "      <th>3</th>\n",
       "      <th>4</th>\n",
       "    </tr>\n",
       "  </thead>\n",
       "  <tbody>\n",
       "    <tr>\n",
       "      <td>0</td>\n",
       "      <td>Purchase Cost</td>\n",
       "      <td>12</td>\n",
       "      <td>7</td>\n",
       "      <td>6</td>\n",
       "      <td>37</td>\n",
       "    </tr>\n",
       "    <tr>\n",
       "      <td>1</td>\n",
       "      <td>Lead Time</td>\n",
       "      <td>9</td>\n",
       "      <td>6</td>\n",
       "      <td>16</td>\n",
       "      <td>22</td>\n",
       "    </tr>\n",
       "    <tr>\n",
       "      <td>2</td>\n",
       "      <td>Size</td>\n",
       "      <td>0.57</td>\n",
       "      <td>0.052</td>\n",
       "      <td>0.53</td>\n",
       "      <td>1.05</td>\n",
       "    </tr>\n",
       "    <tr>\n",
       "      <td>3</td>\n",
       "      <td>Selling Price</td>\n",
       "      <td>16.1</td>\n",
       "      <td>8.6</td>\n",
       "      <td>10.2</td>\n",
       "      <td>68</td>\n",
       "    </tr>\n",
       "    <tr>\n",
       "      <td>4</td>\n",
       "      <td>Starting Stock</td>\n",
       "      <td>2750</td>\n",
       "      <td>22500</td>\n",
       "      <td>5200</td>\n",
       "      <td>1400</td>\n",
       "    </tr>\n",
       "    <tr>\n",
       "      <td>5</td>\n",
       "      <td>Day</td>\n",
       "      <td>Demand</td>\n",
       "      <td>Demand</td>\n",
       "      <td>Demand</td>\n",
       "      <td>Demand</td>\n",
       "    </tr>\n",
       "    <tr>\n",
       "      <td>6</td>\n",
       "      <td>0</td>\n",
       "      <td>90</td>\n",
       "      <td>610</td>\n",
       "      <td>204</td>\n",
       "      <td>153</td>\n",
       "    </tr>\n",
       "    <tr>\n",
       "      <td>7</td>\n",
       "      <td>1</td>\n",
       "      <td>94</td>\n",
       "      <td>685</td>\n",
       "      <td>244</td>\n",
       "      <td>147</td>\n",
       "    </tr>\n",
       "    <tr>\n",
       "      <td>8</td>\n",
       "      <td>2</td>\n",
       "      <td>0</td>\n",
       "      <td>649</td>\n",
       "      <td>197</td>\n",
       "      <td>0</td>\n",
       "    </tr>\n",
       "    <tr>\n",
       "      <td>9</td>\n",
       "      <td>3</td>\n",
       "      <td>110</td>\n",
       "      <td>667</td>\n",
       "      <td>0</td>\n",
       "      <td>0</td>\n",
       "    </tr>\n",
       "  </tbody>\n",
       "</table>\n",
       "</div>"
      ],
      "text/plain": [
       "          Product       1       2       3       4\n",
       "0   Purchase Cost      12       7       6      37\n",
       "1       Lead Time       9       6      16      22\n",
       "2            Size    0.57   0.052    0.53    1.05\n",
       "3   Selling Price    16.1     8.6    10.2      68\n",
       "4  Starting Stock    2750   22500    5200    1400\n",
       "5             Day  Demand  Demand  Demand  Demand\n",
       "6               0      90     610     204     153\n",
       "7               1      94     685     244     147\n",
       "8               2       0     649     197       0\n",
       "9               3     110     667       0       0"
      ]
     },
     "execution_count": 7,
     "metadata": {},
     "output_type": "execute_result"
    }
   ],
   "source": [
    "df.head(10)"
   ]
  },
  {
   "cell_type": "code",
   "execution_count": 8,
   "metadata": {},
   "outputs": [],
   "source": [
    "demand = df[6:]"
   ]
  },
  {
   "cell_type": "markdown",
   "metadata": {},
   "source": [
    "## Part 1"
   ]
  },
  {
   "cell_type": "code",
   "execution_count": null,
   "metadata": {},
   "outputs": [],
   "source": []
  },
  {
   "cell_type": "code",
   "execution_count": 15,
   "metadata": {},
   "outputs": [
    {
     "data": {
      "image/png": "[encoded data removed]",
      "text/plain": [
       "<Figure size 432x288 with 1 Axes>"
      ]
     },
     "metadata": {},
     "output_type": "display_data"
    }
   ],
   "source": [
    "plt.hist(demand[1])\n",
    "plt.show()"
   ]
  },
  {
   "cell_type": "code",
   "execution_count": 21,
   "metadata": {},
   "outputs": [
    {
     "data": {
      "image/png": "[encoded data removed]",
      "text/plain": [
       "<Figure size 864x576 with 4 Axes>"
      ]
     },
     "metadata": {},
     "output_type": "display_data"
    }
   ],
   "source": [
    "fig, axes = plt.subplots(nrows=2, ncols=2, figsize=(12,8))\n",
    "demand[1].plot.hist(ax=axes[0,0])\n",
    "axes[0, 0].set_title('Product 1')\n",
    "demand[2].plot.hist(ax=axes[0,1])\n",
    "axes[0, 1].set_title('Product 2')\n",
    "demand[3].plot.hist(ax=axes[1,0])\n",
    "axes[1, 0].set_title('Product 3')\n",
    "demand[4].plot.hist(ax=axes[1,1])\n",
    "axes[1, 1].set_title('Product 4')\n",
    "\n",
    "plt.savefig('Pictures/Demand_Dist.png', dpi = 200)"
   ]
  },
  {
   "cell_type": "code",
   "execution_count": 9,
   "metadata": {},
   "outputs": [],
   "source": [
    "summary = df[0:5].T\n",
    "\n",
    "new_header = summary.iloc[0] #grab the first row for the header\n",
    "summary = summary[1:] #take the data less the header row\n",
    "summary.columns = new_header #set the header row as the df header"
   ]
  },
  {
   "cell_type": "code",
   "execution_count": 10,
   "metadata": {},
   "outputs": [
    {
     "data": {
      "text/html": [
       "<div>\n",
       "<style scoped>\n",
       "    .dataframe tbody tr th:only-of-type {\n",
       "        vertical-align: middle;\n",
       "    }\n",
       "\n",
       "    .dataframe tbody tr th {\n",
       "        vertical-align: top;\n",
       "    }\n",
       "\n",
       "    .dataframe thead th {\n",
       "        text-align: right;\n",
       "    }\n",
       "</style>\n",
       "<table border=\"1\" class=\"dataframe\">\n",
       "  <thead>\n",
       "    <tr style=\"text-align: right;\">\n",
       "      <th>Product</th>\n",
       "      <th>Purchase Cost</th>\n",
       "      <th>Lead Time</th>\n",
       "      <th>Size</th>\n",
       "      <th>Selling Price</th>\n",
       "      <th>Starting Stock</th>\n",
       "    </tr>\n",
       "  </thead>\n",
       "  <tbody>\n",
       "    <tr>\n",
       "      <td>1</td>\n",
       "      <td>12</td>\n",
       "      <td>9</td>\n",
       "      <td>0.57</td>\n",
       "      <td>16.1</td>\n",
       "      <td>2750</td>\n",
       "    </tr>\n",
       "    <tr>\n",
       "      <td>2</td>\n",
       "      <td>7</td>\n",
       "      <td>6</td>\n",
       "      <td>0.052</td>\n",
       "      <td>8.6</td>\n",
       "      <td>22500</td>\n",
       "    </tr>\n",
       "    <tr>\n",
       "      <td>3</td>\n",
       "      <td>6</td>\n",
       "      <td>16</td>\n",
       "      <td>0.53</td>\n",
       "      <td>10.2</td>\n",
       "      <td>5200</td>\n",
       "    </tr>\n",
       "    <tr>\n",
       "      <td>4</td>\n",
       "      <td>37</td>\n",
       "      <td>22</td>\n",
       "      <td>1.05</td>\n",
       "      <td>68</td>\n",
       "      <td>1400</td>\n",
       "    </tr>\n",
       "  </tbody>\n",
       "</table>\n",
       "</div>"
      ],
      "text/plain": [
       "Product Purchase Cost Lead Time   Size Selling Price Starting Stock\n",
       "1                  12         9   0.57          16.1           2750\n",
       "2                   7         6  0.052           8.6          22500\n",
       "3                   6        16   0.53          10.2           5200\n",
       "4                  37        22   1.05            68           1400"
      ]
     },
     "execution_count": 10,
     "metadata": {},
     "output_type": "execute_result"
    }
   ],
   "source": [
    "summary"
   ]
  },
  {
   "cell_type": "code",
   "execution_count": 57,
   "metadata": {},
   "outputs": [
    {
     "name": "stdout",
     "output_type": "stream",
     "text": [
      "9\n",
      "6\n",
      "16\n",
      "22\n"
     ]
    }
   ],
   "source": [
    "for i in range(4):\n",
    "    print(summary['Lead Time'].iloc[i])"
   ]
  },
  {
   "cell_type": "code",
   "execution_count": 11,
   "metadata": {},
   "outputs": [
    {
     "name": "stdout",
     "output_type": "stream",
     "text": [
      "Product 1 details:\n",
      " Mean - 103.50\n",
      " Standard Deviation - 37.32\n",
      " Expected proportion of days - 0.76\n",
      "\n",
      "Product 2 details:\n",
      " Mean - 648.55\n",
      " Standard Deviation - 26.45\n",
      " Expected proportion of days - 1.00\n",
      "\n",
      "Product 3 details:\n",
      " Mean - 201.68\n",
      " Standard Deviation - 31.08\n",
      " Expected proportion of days - 0.70\n",
      "\n",
      "Product 4 details:\n",
      " Mean - 150.07\n",
      " Standard Deviation - 3.22\n",
      " Expected proportion of days - 0.24\n",
      "\n"
     ]
    }
   ],
   "source": [
    "mu = []\n",
    "sd = []\n",
    "p = []\n",
    "\n",
    "for i in range(1,5):\n",
    "    print(f'Product {i} details:')\n",
    "    print(f' Mean - {np.mean(demand[demand[i]>0][i]):.2f}')\n",
    "    print(f' Standard Deviation - {np.std(demand[demand[i]>0][i]):.2f}')\n",
    "    proportion = [1 if j != 0 else 0 for j in demand[i]].count(1)/len(demand[i])\n",
    "    print(f' Expected proportion of days - {proportion:.2f}\\n')\n",
    "    \n",
    "    mu.append(np.mean(demand[demand[i]>0][i]))\n",
    "    sd.append(np.std(demand[demand[i]>0][i]))\n",
    "    p.append(proportion)\n",
    "    \n",
    "summary['Mean'] = mu\n",
    "summary['Std Dev'] = sd\n",
    "summary['Probability'] = p"
   ]
  },
  {
   "cell_type": "code",
   "execution_count": 12,
   "metadata": {},
   "outputs": [
    {
     "data": {
      "text/plain": [
       "[103.50180505415162, 648.551912568306, 201.6770428015564, 150.06896551724137]"
      ]
     },
     "execution_count": 12,
     "metadata": {},
     "output_type": "execute_result"
    }
   ],
   "source": [
    "mu"
   ]
  },
  {
   "cell_type": "code",
   "execution_count": 13,
   "metadata": {},
   "outputs": [
    {
     "data": {
      "text/html": [
       "<div>\n",
       "<style scoped>\n",
       "    .dataframe tbody tr th:only-of-type {\n",
       "        vertical-align: middle;\n",
       "    }\n",
       "\n",
       "    .dataframe tbody tr th {\n",
       "        vertical-align: top;\n",
       "    }\n",
       "\n",
       "    .dataframe thead th {\n",
       "        text-align: right;\n",
       "    }\n",
       "</style>\n",
       "<table border=\"1\" class=\"dataframe\">\n",
       "  <thead>\n",
       "    <tr style=\"text-align: right;\">\n",
       "      <th>Product</th>\n",
       "      <th>Purchase Cost</th>\n",
       "      <th>Lead Time</th>\n",
       "      <th>Size</th>\n",
       "      <th>Selling Price</th>\n",
       "      <th>Starting Stock</th>\n",
       "      <th>Mean</th>\n",
       "      <th>Std Dev</th>\n",
       "      <th>Probability</th>\n",
       "    </tr>\n",
       "  </thead>\n",
       "  <tbody>\n",
       "    <tr>\n",
       "      <td>1</td>\n",
       "      <td>12</td>\n",
       "      <td>9</td>\n",
       "      <td>0.57</td>\n",
       "      <td>16.1</td>\n",
       "      <td>2750</td>\n",
       "      <td>103.501805</td>\n",
       "      <td>37.317994</td>\n",
       "      <td>0.756831</td>\n",
       "    </tr>\n",
       "    <tr>\n",
       "      <td>2</td>\n",
       "      <td>7</td>\n",
       "      <td>6</td>\n",
       "      <td>0.052</td>\n",
       "      <td>8.6</td>\n",
       "      <td>22500</td>\n",
       "      <td>648.551913</td>\n",
       "      <td>26.446797</td>\n",
       "      <td>1.000000</td>\n",
       "    </tr>\n",
       "    <tr>\n",
       "      <td>3</td>\n",
       "      <td>6</td>\n",
       "      <td>16</td>\n",
       "      <td>0.53</td>\n",
       "      <td>10.2</td>\n",
       "      <td>5200</td>\n",
       "      <td>201.677043</td>\n",
       "      <td>31.079301</td>\n",
       "      <td>0.702186</td>\n",
       "    </tr>\n",
       "    <tr>\n",
       "      <td>4</td>\n",
       "      <td>37</td>\n",
       "      <td>22</td>\n",
       "      <td>1.05</td>\n",
       "      <td>68</td>\n",
       "      <td>1400</td>\n",
       "      <td>150.068966</td>\n",
       "      <td>3.215598</td>\n",
       "      <td>0.237705</td>\n",
       "    </tr>\n",
       "  </tbody>\n",
       "</table>\n",
       "</div>"
      ],
      "text/plain": [
       "Product Purchase Cost Lead Time   Size Selling Price Starting Stock  \\\n",
       "1                  12         9   0.57          16.1           2750   \n",
       "2                   7         6  0.052           8.6          22500   \n",
       "3                   6        16   0.53          10.2           5200   \n",
       "4                  37        22   1.05            68           1400   \n",
       "\n",
       "Product        Mean    Std Dev  Probability  \n",
       "1        103.501805  37.317994     0.756831  \n",
       "2        648.551913  26.446797     1.000000  \n",
       "3        201.677043  31.079301     0.702186  \n",
       "4        150.068966   3.215598     0.237705  "
      ]
     },
     "execution_count": 13,
     "metadata": {},
     "output_type": "execute_result"
    }
   ],
   "source": [
    "summary"
   ]
  },
  {
   "cell_type": "code",
   "execution_count": 230,
   "metadata": {},
   "outputs": [],
   "source": [
    "#for i in range(4):\n",
    "#    print(f\"Expected Demand Product {i+1} during lead time - {summary['Lead Time'].iloc[i] * summary['Mean'].iloc[i]:.2f} \\n\")"
   ]
  },
  {
   "cell_type": "code",
   "execution_count": 14,
   "metadata": {},
   "outputs": [
    {
     "name": "stdout",
     "output_type": "stream",
     "text": [
      "Expected Demand Product 1 during lead time - 705.00 \n",
      "\n",
      "Expected Demand Product 2 during lead time - 3891.31 \n",
      "\n",
      "Expected Demand Product 3 during lead time - 2265.84 \n",
      "\n",
      "Expected Demand Product 4 during lead time - 784.79 \n",
      "\n"
     ]
    }
   ],
   "source": [
    "# Drawing from the original distribution\n",
    "\n",
    "for i in range(4):\n",
    "    print(f\"Expected Demand Product {i+1} during lead time - {summary['Lead Time'].iloc[i] * np.mean(demand[i+1]):.2f} \\n\")"
   ]
  },
  {
   "cell_type": "code",
   "execution_count": 15,
   "metadata": {},
   "outputs": [],
   "source": [
    "def get_sqrt(sd, n):\n",
    "    val = 0\n",
    "    for i in range(n):\n",
    "        val += sd**2\n",
    "        \n",
    "    return np.sqrt(val)"
   ]
  },
  {
   "cell_type": "code",
   "execution_count": 234,
   "metadata": {},
   "outputs": [],
   "source": [
    "#for i in range(4):\n",
    "#    print(f\"Expected Std Dev Product {i+1} during lead time - {get_sqrt(summary['Std Dev'].iloc[i], summary['Lead Time'].iloc[i]):.2f} \\n\")"
   ]
  },
  {
   "cell_type": "code",
   "execution_count": 16,
   "metadata": {},
   "outputs": [
    {
     "name": "stdout",
     "output_type": "stream",
     "text": [
      "Expected Std Dev Product 1 during lead time - 165.01 \n",
      "\n",
      "Expected Std Dev Product 2 during lead time - 64.78 \n",
      "\n",
      "Expected Std Dev Product 3 during lead time - 383.33 \n",
      "\n",
      "Expected Std Dev Product 4 during lead time - 299.72 \n",
      "\n"
     ]
    }
   ],
   "source": [
    "# Drawing from the original distribution\n",
    "for i in range(4):\n",
    "    print(f\"Expected Std Dev Product {i+1} during lead time - {get_sqrt(np.std(demand[i+1]), summary['Lead Time'].iloc[i]):.2f} \\n\")"
   ]
  },
  {
   "cell_type": "code",
   "execution_count": null,
   "metadata": {},
   "outputs": [],
   "source": []
  },
  {
   "cell_type": "markdown",
   "metadata": {},
   "source": [
    "## Periodic Review"
   ]
  },
  {
   "cell_type": "code",
   "execution_count": 83,
   "metadata": {},
   "outputs": [],
   "source": [
    "avg = 705.00\n",
    "std_dev = 165.01\n",
    "num_reps = 366\n",
    "num_simulations = 1000"
   ]
  },
  {
   "cell_type": "code",
   "execution_count": 86,
   "metadata": {},
   "outputs": [
    {
     "data": {
      "image/png": "[encoded data removed]",
      "text/plain": [
       "<Figure size 432x288 with 1 Axes>"
      ]
     },
     "metadata": {},
     "output_type": "display_data"
    }
   ],
   "source": [
    "plt.hist(np.random.normal(avg, std_dev, num_reps).round(2))\n",
    "plt.show()"
   ]
  },
  {
   "cell_type": "code",
   "execution_count": 87,
   "metadata": {},
   "outputs": [
    {
     "data": {
      "text/plain": [
       "1089.45"
      ]
     },
     "execution_count": 87,
     "metadata": {},
     "output_type": "execute_result"
    }
   ],
   "source": [
    "705 + 165*2.33"
   ]
  },
  {
   "cell_type": "code",
   "execution_count": 181,
   "metadata": {},
   "outputs": [],
   "source": [
    "summary['Co'] = [1000, 1200, 1000, 1200]\n",
    "summary['Ch'] = [20, 20, 20, 20]"
   ]
  },
  {
   "cell_type": "code",
   "execution_count": 307,
   "metadata": {},
   "outputs": [
    {
     "data": {
      "text/html": [
       "<div>\n",
       "<style scoped>\n",
       "    .dataframe tbody tr th:only-of-type {\n",
       "        vertical-align: middle;\n",
       "    }\n",
       "\n",
       "    .dataframe tbody tr th {\n",
       "        vertical-align: top;\n",
       "    }\n",
       "\n",
       "    .dataframe thead th {\n",
       "        text-align: right;\n",
       "    }\n",
       "</style>\n",
       "<table border=\"1\" class=\"dataframe\">\n",
       "  <thead>\n",
       "    <tr style=\"text-align: right;\">\n",
       "      <th>Product</th>\n",
       "      <th>Purchase Cost</th>\n",
       "      <th>Lead Time</th>\n",
       "      <th>Size</th>\n",
       "      <th>Selling Price</th>\n",
       "      <th>Starting Stock</th>\n",
       "      <th>Mean</th>\n",
       "      <th>Std Dev</th>\n",
       "      <th>Co</th>\n",
       "      <th>Ch</th>\n",
       "      <th>Probability</th>\n",
       "    </tr>\n",
       "  </thead>\n",
       "  <tbody>\n",
       "    <tr>\n",
       "      <td>1</td>\n",
       "      <td>12</td>\n",
       "      <td>9</td>\n",
       "      <td>0.57</td>\n",
       "      <td>16.1</td>\n",
       "      <td>2750</td>\n",
       "      <td>103.501805</td>\n",
       "      <td>37.317994</td>\n",
       "      <td>1000</td>\n",
       "      <td>20</td>\n",
       "      <td>0.756831</td>\n",
       "    </tr>\n",
       "    <tr>\n",
       "      <td>2</td>\n",
       "      <td>7</td>\n",
       "      <td>6</td>\n",
       "      <td>0.052</td>\n",
       "      <td>8.6</td>\n",
       "      <td>22500</td>\n",
       "      <td>648.551913</td>\n",
       "      <td>26.446797</td>\n",
       "      <td>1200</td>\n",
       "      <td>20</td>\n",
       "      <td>1.000000</td>\n",
       "    </tr>\n",
       "    <tr>\n",
       "      <td>3</td>\n",
       "      <td>6</td>\n",
       "      <td>16</td>\n",
       "      <td>0.53</td>\n",
       "      <td>10.2</td>\n",
       "      <td>5200</td>\n",
       "      <td>201.677043</td>\n",
       "      <td>31.079301</td>\n",
       "      <td>1000</td>\n",
       "      <td>20</td>\n",
       "      <td>0.702186</td>\n",
       "    </tr>\n",
       "    <tr>\n",
       "      <td>4</td>\n",
       "      <td>37</td>\n",
       "      <td>22</td>\n",
       "      <td>1.05</td>\n",
       "      <td>68</td>\n",
       "      <td>1400</td>\n",
       "      <td>150.068966</td>\n",
       "      <td>3.215598</td>\n",
       "      <td>1200</td>\n",
       "      <td>20</td>\n",
       "      <td>0.237705</td>\n",
       "    </tr>\n",
       "  </tbody>\n",
       "</table>\n",
       "</div>"
      ],
      "text/plain": [
       "Product Purchase Cost Lead Time   Size Selling Price Starting Stock  \\\n",
       "1                  12         9   0.57          16.1           2750   \n",
       "2                   7         6  0.052           8.6          22500   \n",
       "3                   6        16   0.53          10.2           5200   \n",
       "4                  37        22   1.05            68           1400   \n",
       "\n",
       "Product        Mean    Std Dev    Co  Ch  Probability  \n",
       "1        103.501805  37.317994  1000  20     0.756831  \n",
       "2        648.551913  26.446797  1200  20     1.000000  \n",
       "3        201.677043  31.079301  1000  20     0.702186  \n",
       "4        150.068966   3.215598  1200  20     0.237705  "
      ]
     },
     "execution_count": 307,
     "metadata": {},
     "output_type": "execute_result"
    }
   ],
   "source": [
    "summary"
   ]
  },
  {
   "cell_type": "code",
   "execution_count": 343,
   "metadata": {},
   "outputs": [],
   "source": [
    "inventory = summary['Starting Stock'].iloc[0]\n",
    "#mean = summary['Mean'].iloc[0]\n",
    "#sd = summary['Std Dev'].iloc[0]\n",
    "\n",
    "mean = np.mean([np.log(i) for i in demand[demand[1] > 0][1]])\n",
    "sd = np.std([np.log(i) for i in demand[demand[1] > 0][1]])\n",
    "\n",
    "lead_time = summary['Lead Time'].iloc[0]\n",
    "review_period = 30\n",
    "profit_per_unit = summary['Selling Price'].iloc[0] #- summary['Purchase Cost'].iloc[0]\n",
    "unit_cost = summary['Purchase Cost'].iloc[0]\n",
    "prob = summary['Probability'].iloc[0]\n",
    "\n",
    "M = 2750\n",
    "d = 0 # number of days\n",
    "profit = 0\n",
    "Q = 0\n",
    "stock_out = 0\n",
    "\n",
    "for d in range(365):\n",
    "    \n",
    "    dd = daily_demand(mean, sd, prob)\n",
    "    if d % (review_period + lead_time) != 0:\n",
    "        inventory, stock_out = update_inventory(inventory, dd, stock_out)\n",
    "        profit = update_profit(inventory, dd, profit_per_unit, profit)\n",
    "        \n",
    "    else:\n",
    "        Q = M - inventory\n",
    "        inventory = inventory + Q - dd\n",
    "        profit += profit_per_unit * dd"
   ]
  },
  {
   "cell_type": "code",
   "execution_count": 287,
   "metadata": {},
   "outputs": [
    {
     "data": {
      "text/plain": [
       "39"
      ]
     },
     "execution_count": 287,
     "metadata": {},
     "output_type": "execute_result"
    }
   ],
   "source": [
    "review_period + lead_time"
   ]
  },
  {
   "cell_type": "code",
   "execution_count": 585,
   "metadata": {},
   "outputs": [],
   "source": [
    "def monte_carlo_ray(M, inventory, mean, sd, lead_time, review_period, profit_per_unit, prob, unit_cost):\n",
    "    profit = 0\n",
    "    Q = 0\n",
    "    stock_out = 0\n",
    "    cost = 0\n",
    "    \n",
    "    Ch = 20\n",
    "    size = 0.57\n",
    "    Co = 1000\n",
    "    \n",
    "    #inventory_level = []\n",
    "    data = {}\n",
    "    data['inventory_level'] = []\n",
    "    data['daily_demand'] = []\n",
    "    data['units_sold'] = []\n",
    "    data['Order'] = []\n",
    "    units_sold = 0\n",
    "    \n",
    "    number_of_orders = 0\n",
    "\n",
    "    for d in range(1,366):\n",
    "        \n",
    "        cost += inventory * Ch * size * (1/365)\n",
    "\n",
    "        dd = daily_demand(mean, sd, prob)\n",
    "        if d % (review_period + lead_time) != 0:\n",
    "            inventory, stock_out = update_inventory(inventory, dd, stock_out)\n",
    "            profit = update_profit(inventory, dd, profit_per_unit, profit)\n",
    "\n",
    "        else:\n",
    "            Q = M - inventory\n",
    "            number_of_orders += 1\n",
    "            cost += Co + (unit_cost*Q)\n",
    "            inventory = max(inventory + Q - dd, 0)\n",
    "            profit += profit_per_unit * dd\n",
    "            data['Order'].append(Q)\n",
    "            \n",
    "        if (inventory - dd) > 0:\n",
    "            units_sold = dd\n",
    "        else:\n",
    "            units_sold = inventory\n",
    "            \n",
    "        data['inventory_level'].append(inventory)\n",
    "        data['daily_demand'].append(dd)\n",
    "        data['units_sold'].append(units_sold)\n",
    "        \n",
    "            \n",
    "    #print('Number of orders : ', number_of_orders)\n",
    "    return (round(profit-cost,2), stock_out, data)"
   ]
  },
  {
   "cell_type": "code",
   "execution_count": 426,
   "metadata": {},
   "outputs": [],
   "source": [
    "def daily_demand(mean, sd, prob):\n",
    "    \n",
    "    random_num = np.random.uniform(0,1)\n",
    "    if random_num > prob:\n",
    "        return 0\n",
    "    else:\n",
    "        return np.exp(np.random.normal(mean, sd))"
   ]
  },
  {
   "cell_type": "code",
   "execution_count": 341,
   "metadata": {},
   "outputs": [
    {
     "data": {
      "text/plain": [
       "(4.559987732142972, 0.4349019636615757)"
      ]
     },
     "execution_count": 341,
     "metadata": {},
     "output_type": "execute_result"
    }
   ],
   "source": [
    "(mean, sd)"
   ]
  },
  {
   "cell_type": "code",
   "execution_count": 405,
   "metadata": {},
   "outputs": [
    {
     "data": {
      "image/png": "[encoded data removed]",
      "text/plain": [
       "<Figure size 432x288 with 1 Axes>"
      ]
     },
     "metadata": {},
     "output_type": "display_data"
    }
   ],
   "source": [
    "plt.hist([daily_demand(mean, sd, prob) for i in range(1,1000)])\n",
    "plt.show()"
   ]
  },
  {
   "cell_type": "code",
   "execution_count": null,
   "metadata": {},
   "outputs": [],
   "source": []
  },
  {
   "cell_type": "code",
   "execution_count": null,
   "metadata": {},
   "outputs": [],
   "source": []
  },
  {
   "cell_type": "code",
   "execution_count": 329,
   "metadata": {},
   "outputs": [],
   "source": [
    "def update_inventory(inventory, dd, stock_out):\n",
    "    if inventory - dd < 0:\n",
    "        return 0, stock_out+1\n",
    "    else:\n",
    "        return inventory - dd, stock_out"
   ]
  },
  {
   "cell_type": "code",
   "execution_count": 356,
   "metadata": {},
   "outputs": [],
   "source": [
    "def update_profit(inventory, dd, profit_per_unit, profit):\n",
    "    if inventory - dd < 0:\n",
    "        profit += profit_per_unit * inventory\n",
    "        return profit\n",
    "    else:\n",
    "        profit += profit_per_unit * dd\n",
    "        return profit"
   ]
  },
  {
   "cell_type": "code",
   "execution_count": 601,
   "metadata": {},
   "outputs": [
    {
     "data": {
      "text/plain": [
       "(84476.7977367157, 13)"
      ]
     },
     "execution_count": 601,
     "metadata": {},
     "output_type": "execute_result"
    }
   ],
   "source": [
    "inventory = summary['Starting Stock'].iloc[0]\n",
    "#mean = summary['Mean'].iloc[0]\n",
    "#sd = summary['Std Dev'].iloc[0]\n",
    "\n",
    "mean = np.mean([np.log(i) for i in demand[demand[1] > 0][1]])\n",
    "sd = np.std([np.log(i) for i in demand[demand[1] > 0][1]])\n",
    "\n",
    "lead_time = summary['Lead Time'].iloc[0]\n",
    "review_period = 30\n",
    "profit_per_unit = summary['Selling Price'].iloc[0] #- summary['Purchase Cost'].iloc[0]\n",
    "unit_cost = summary['Purchase Cost'].iloc[0]\n",
    "prob = summary['Probability'].iloc[0]\n",
    "\n",
    "M = 3000\n",
    "profit, stock_out, data = monte_carlo_ray(M, inventory, mean, sd, lead_time, review_period, profit_per_unit, prob, unit_cost)\n",
    "\n",
    "new_profit = (np.sum(data['units_sold'])*16.1) - 9000 - (sum(data['inventory_level']) * 0.57 * (20/365)) - (sum(data['Order']) * 12)\n",
    "\n",
    "(new_profit, stock_out)"
   ]
  },
  {
   "cell_type": "code",
   "execution_count": 600,
   "metadata": {},
   "outputs": [
    {
     "data": {
      "text/plain": [
       "85330.29"
      ]
     },
     "execution_count": 600,
     "metadata": {},
     "output_type": "execute_result"
    }
   ],
   "source": [
    "profit"
   ]
  },
  {
   "cell_type": "code",
   "execution_count": 590,
   "metadata": {},
   "outputs": [
    {
     "data": {
      "text/plain": [
       "[<matplotlib.lines.Line2D at 0x1a1c0c4a10>]"
      ]
     },
     "execution_count": 590,
     "metadata": {},
     "output_type": "execute_result"
    },
    {
     "data": {
      "image/png": "[encoded data removed]",
      "text/plain": [
       "<Figure size 1440x576 with 1 Axes>"
      ]
     },
     "metadata": {},
     "output_type": "display_data"
    }
   ],
   "source": [
    "plt.figure(figsize=(20,8))\n",
    "plt.plot(data['inventory_level'])"
   ]
  },
  {
   "cell_type": "code",
   "execution_count": 458,
   "metadata": {},
   "outputs": [
    {
     "data": {
      "text/plain": [
       "49515.68842735095"
      ]
     },
     "execution_count": 458,
     "metadata": {},
     "output_type": "execute_result"
    }
   ],
   "source": [
    "# Profit calc\n",
    "(np.sum(data['units_sold'])*16.1) - 9000 - (sum(data['inventory_level']) * 0.57 * (20/365)) - (sum(data['Order']) * 12)"
   ]
  },
  {
   "cell_type": "code",
   "execution_count": 416,
   "metadata": {},
   "outputs": [
    {
     "data": {
      "text/plain": [
       "81.41610567537425"
      ]
     },
     "execution_count": 416,
     "metadata": {},
     "output_type": "execute_result"
    }
   ],
   "source": [
    "np.mean(data['units_sold'])"
   ]
  },
  {
   "cell_type": "code",
   "execution_count": 602,
   "metadata": {},
   "outputs": [],
   "source": [
    "num_simulations = 1000\n",
    "\n",
    "profit_list = []\n",
    "stock_out_list = []\n",
    "\n",
    "for sim in range(num_simulations):\n",
    "    M = 3000\n",
    "    p, s, data  = monte_carlo_ray(M, inventory, mean, sd, lead_time, review_period, profit_per_unit, prob, unit_cost)\n",
    "    #profit_list.append(p)\n",
    "    stock_out_list.append(s)\n",
    "    \n",
    "    new_profit = (np.sum(data['units_sold'])*16.1) - 9000 - (sum(data['inventory_level']) * 0.57 * (20/365)) - (sum(data['Order']) * 12)\n",
    "    profit_list.append(new_profit)"
   ]
  },
  {
   "cell_type": "code",
   "execution_count": 603,
   "metadata": {},
   "outputs": [
    {
     "data": {
      "image/png": "[encoded data removed]",
      "text/plain": [
       "<Figure size 432x288 with 1 Axes>"
      ]
     },
     "metadata": {},
     "output_type": "display_data"
    }
   ],
   "source": [
    "sns.distplot(profit_list, kde=False)\n",
    "plt.show()"
   ]
  },
  {
   "cell_type": "code",
   "execution_count": 524,
   "metadata": {},
   "outputs": [
    {
     "data": {
      "text/plain": [
       "9"
      ]
     },
     "execution_count": 524,
     "metadata": {},
     "output_type": "execute_result"
    }
   ],
   "source": [
    "len(data['Order'])"
   ]
  },
  {
   "cell_type": "code",
   "execution_count": 604,
   "metadata": {},
   "outputs": [
    {
     "data": {
      "text/plain": [
       "83748.70421348038"
      ]
     },
     "execution_count": 604,
     "metadata": {},
     "output_type": "execute_result"
    }
   ],
   "source": [
    "np.mean(profit_list)"
   ]
  },
  {
   "cell_type": "code",
   "execution_count": 605,
   "metadata": {},
   "outputs": [
    {
     "data": {
      "text/plain": [
       "4685.18334597671"
      ]
     },
     "execution_count": 605,
     "metadata": {},
     "output_type": "execute_result"
    }
   ],
   "source": [
    "np.std(profit_list)"
   ]
  },
  {
   "cell_type": "code",
   "execution_count": 465,
   "metadata": {},
   "outputs": [
    {
     "data": {
      "text/plain": [
       "96071.76170970759"
      ]
     },
     "execution_count": 465,
     "metadata": {},
     "output_type": "execute_result"
    }
   ],
   "source": [
    "sum(data['inventory_level'])"
   ]
  },
  {
   "cell_type": "code",
   "execution_count": 468,
   "metadata": {},
   "outputs": [
    {
     "data": {
      "text/plain": [
       "10634.426153931669"
      ]
     },
     "execution_count": 468,
     "metadata": {},
     "output_type": "execute_result"
    }
   ],
   "source": [
    "sum(data['units_sold'])"
   ]
  },
  {
   "cell_type": "code",
   "execution_count": 516,
   "metadata": {},
   "outputs": [
    {
     "data": {
      "text/html": [
       "<div>\n",
       "<style scoped>\n",
       "    .dataframe tbody tr th:only-of-type {\n",
       "        vertical-align: middle;\n",
       "    }\n",
       "\n",
       "    .dataframe tbody tr th {\n",
       "        vertical-align: top;\n",
       "    }\n",
       "\n",
       "    .dataframe thead th {\n",
       "        text-align: right;\n",
       "    }\n",
       "</style>\n",
       "<table border=\"1\" class=\"dataframe\">\n",
       "  <thead>\n",
       "    <tr style=\"text-align: right;\">\n",
       "      <th>Product</th>\n",
       "      <th>Purchase Cost</th>\n",
       "      <th>Lead Time</th>\n",
       "      <th>Size</th>\n",
       "      <th>Selling Price</th>\n",
       "      <th>Starting Stock</th>\n",
       "      <th>Mean</th>\n",
       "      <th>Std Dev</th>\n",
       "      <th>Co</th>\n",
       "      <th>Ch</th>\n",
       "      <th>Probability</th>\n",
       "    </tr>\n",
       "  </thead>\n",
       "  <tbody>\n",
       "    <tr>\n",
       "      <td>1</td>\n",
       "      <td>12</td>\n",
       "      <td>9</td>\n",
       "      <td>0.57</td>\n",
       "      <td>16.1</td>\n",
       "      <td>2750</td>\n",
       "      <td>103.501805</td>\n",
       "      <td>37.317994</td>\n",
       "      <td>1000</td>\n",
       "      <td>20</td>\n",
       "      <td>0.756831</td>\n",
       "    </tr>\n",
       "    <tr>\n",
       "      <td>2</td>\n",
       "      <td>7</td>\n",
       "      <td>6</td>\n",
       "      <td>0.052</td>\n",
       "      <td>8.6</td>\n",
       "      <td>22500</td>\n",
       "      <td>648.551913</td>\n",
       "      <td>26.446797</td>\n",
       "      <td>1200</td>\n",
       "      <td>20</td>\n",
       "      <td>1.000000</td>\n",
       "    </tr>\n",
       "    <tr>\n",
       "      <td>3</td>\n",
       "      <td>6</td>\n",
       "      <td>16</td>\n",
       "      <td>0.53</td>\n",
       "      <td>10.2</td>\n",
       "      <td>5200</td>\n",
       "      <td>201.677043</td>\n",
       "      <td>31.079301</td>\n",
       "      <td>1000</td>\n",
       "      <td>20</td>\n",
       "      <td>0.702186</td>\n",
       "    </tr>\n",
       "    <tr>\n",
       "      <td>4</td>\n",
       "      <td>37</td>\n",
       "      <td>22</td>\n",
       "      <td>1.05</td>\n",
       "      <td>68</td>\n",
       "      <td>1400</td>\n",
       "      <td>150.068966</td>\n",
       "      <td>3.215598</td>\n",
       "      <td>1200</td>\n",
       "      <td>20</td>\n",
       "      <td>0.237705</td>\n",
       "    </tr>\n",
       "  </tbody>\n",
       "</table>\n",
       "</div>"
      ],
      "text/plain": [
       "Product Purchase Cost Lead Time   Size Selling Price Starting Stock  \\\n",
       "1                  12         9   0.57          16.1           2750   \n",
       "2                   7         6  0.052           8.6          22500   \n",
       "3                   6        16   0.53          10.2           5200   \n",
       "4                  37        22   1.05            68           1400   \n",
       "\n",
       "Product        Mean    Std Dev    Co  Ch  Probability  \n",
       "1        103.501805  37.317994  1000  20     0.756831  \n",
       "2        648.551913  26.446797  1200  20     1.000000  \n",
       "3        201.677043  31.079301  1000  20     0.702186  \n",
       "4        150.068966   3.215598  1200  20     0.237705  "
      ]
     },
     "execution_count": 516,
     "metadata": {},
     "output_type": "execute_result"
    }
   ],
   "source": [
    "summary"
   ]
  },
  {
   "cell_type": "code",
   "execution_count": 606,
   "metadata": {},
   "outputs": [],
   "source": [
    "# Product 1\n",
    "\n",
    "inventory = summary['Starting Stock'].iloc[0]\n",
    "#mean = summary['Mean'].iloc[0]\n",
    "#sd = summary['Std Dev'].iloc[0]\n",
    "\n",
    "mean = np.mean([np.log(i) for i in demand[demand[1] > 0][1]])\n",
    "sd = np.std([np.log(i) for i in demand[demand[1] > 0][1]])\n",
    "\n",
    "lead_time = summary['Lead Time'].iloc[0]\n",
    "review_period = 30\n",
    "profit_per_unit = summary['Selling Price'].iloc[0] #- summary['Purchase Cost'].iloc[0]\n",
    "unit_cost = summary['Purchase Cost'].iloc[0]\n",
    "prob = summary['Probability'].iloc[0]\n",
    "\n",
    "num_simulations = 100\n",
    "\n",
    "profit_list = []\n",
    "stock_out_list = []\n",
    "Order_dict = {}\n",
    "\n",
    "#m_range = np.linspace(inventory, 2*inventory, 2*inventory - inventory + 1)\n",
    "m_range = [r for r in range(1500, 6000, 50)]\n",
    "\n",
    "for M in m_range:\n",
    "    for sim in range(num_simulations):\n",
    "        #M = 2750\n",
    "        p, s, data  = monte_carlo_ray(M, inventory, mean, sd, lead_time, review_period, profit_per_unit, prob, unit_cost)\n",
    "        #profit_list.append(p)\n",
    "        stock_out_list.append(s)\n",
    "        \n",
    "        new_profit = (np.sum(data['units_sold'])*16.1) - 9000 - (sum(data['inventory_level']) * 0.57 * (20/365)) - (sum(data['Order']) * 12)\n",
    "        profit_list.append(new_profit)\n",
    "        \n",
    "    Order_dict[M] = (np.mean(profit_list), np.std(profit_list))"
   ]
  },
  {
   "cell_type": "code",
   "execution_count": 607,
   "metadata": {},
   "outputs": [],
   "source": [
    "xx = [i for i in Order_dict.keys()]\n",
    "yy = []\n",
    "for val in Order_dict.values():\n",
    "    yy.append(val[0])"
   ]
  },
  {
   "cell_type": "code",
   "execution_count": 608,
   "metadata": {},
   "outputs": [
    {
     "data": {
      "text/plain": [
       "[<matplotlib.lines.Line2D at 0x1a1eb01650>]"
      ]
     },
     "execution_count": 608,
     "metadata": {},
     "output_type": "execute_result"
    },
    {
     "data": {
      "image/png": "[encoded data removed]",
      "text/plain": [
       "<Figure size 432x288 with 1 Axes>"
      ]
     },
     "metadata": {},
     "output_type": "display_data"
    }
   ],
   "source": [
    "plt.plot(xx, yy)"
   ]
  },
  {
   "cell_type": "code",
   "execution_count": 493,
   "metadata": {},
   "outputs": [
    {
     "name": "stdout",
     "output_type": "stream",
     "text": [
      "4050\n"
     ]
    }
   ],
   "source": [
    "for key, val in Order_dict.items():\n",
    "    if 77576 < Order_dict[key][0] < 77577:\n",
    "        print(key)"
   ]
  },
  {
   "cell_type": "code",
   "execution_count": 609,
   "metadata": {},
   "outputs": [
    {
     "data": {
      "text/plain": [
       "(73011.89831419243, 7997.358378611355)"
      ]
     },
     "execution_count": 609,
     "metadata": {},
     "output_type": "execute_result"
    }
   ],
   "source": [
    "Order_dict[3000]"
   ]
  },
  {
   "cell_type": "code",
   "execution_count": 610,
   "metadata": {},
   "outputs": [
    {
     "data": {
      "text/plain": [
       "(77615.31000553949, 9177.285602038293)"
      ]
     },
     "execution_count": 610,
     "metadata": {},
     "output_type": "execute_result"
    }
   ],
   "source": [
    "Order_dict[4050]"
   ]
  },
  {
   "cell_type": "code",
   "execution_count": null,
   "metadata": {},
   "outputs": [],
   "source": []
  },
  {
   "cell_type": "code",
   "execution_count": null,
   "metadata": {},
   "outputs": [],
   "source": []
  },
  {
   "cell_type": "markdown",
   "metadata": {},
   "source": [
    "## Continous Review"
   ]
  },
  {
   "cell_type": "code",
   "execution_count": null,
   "metadata": {},
   "outputs": [],
   "source": []
  }
 ],
 "metadata": {
  "kernelspec": {
   "display_name": "Python 3",
   "language": "python",
   "name": "python3"
  },
  "language_info": {
   "codemirror_mode": {
    "name": "ipython",
    "version": 3
   },
   "file_extension": ".py",
   "mimetype": "text/x-python",
   "name": "python",
   "nbconvert_exporter": "python",
   "pygments_lexer": "ipython3",
   "version": "3.7.6"
  }
 },
 "nbformat": 4,
 "nbformat_minor": 4
}
