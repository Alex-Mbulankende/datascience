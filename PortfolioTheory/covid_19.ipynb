{
 "cells": [
  {
   "cell_type": "code",
   "execution_count": 1,
   "metadata": {},
   "outputs": [
    {
     "name": "stderr",
     "output_type": "stream",
     "text": [
      "/Users/mehulnagpurkar/anaconda3/envs/analytics/lib/python3.7/site-packages/pandas_datareader/compat/__init__.py:7: FutureWarning: pandas.util.testing is deprecated. Use the functions in the public API at pandas.testing instead.\n",
      "  from pandas.util.testing import assert_frame_equal\n"
     ]
    }
   ],
   "source": [
    "import numpy as np\n",
    "import pandas as pd\n",
    "\n",
    "import pandas_datareader as pdr\n",
    "from datetime import datetime\n",
    "\n",
    "import matplotlib.pyplot as plt\n",
    "import seaborn as sns\n",
    "\n",
    "sns.set_style('whitegrid')"
   ]
  },
  {
   "cell_type": "code",
   "execution_count": 80,
   "metadata": {},
   "outputs": [],
   "source": [
    "from collections import defaultdict"
   ]
  },
  {
   "cell_type": "code",
   "execution_count": 50,
   "metadata": {},
   "outputs": [],
   "source": [
    "start = datetime(2019, 12, 1)\n",
    "end = datetime.today()"
   ]
  },
  {
   "cell_type": "code",
   "execution_count": 51,
   "metadata": {},
   "outputs": [],
   "source": [
    "def get_stocks(name):\n",
    "    stock = pdr.get_data_yahoo(symbols=name, start=start, end=end)\n",
    "    return stock\n",
    "\n",
    "\n",
    "#df = get_stocks('VAS.AX')\n",
    "#print(df['Adj Close'])"
   ]
  },
  {
   "cell_type": "code",
   "execution_count": 8,
   "metadata": {},
   "outputs": [
    {
     "data": {
      "text/plain": [
       "90.81999969482422"
      ]
     },
     "execution_count": 8,
     "metadata": {},
     "output_type": "execute_result"
    }
   ],
   "source": [
    "df.xs(key='Adj Close', axis = 1).max()"
   ]
  },
  {
   "cell_type": "code",
   "execution_count": 13,
   "metadata": {},
   "outputs": [],
   "source": [
    "# get a list of stocks\n",
    "ticker_df = pd.read_html('https://en.wikipedia.org/wiki/List_of_S%26P_500_companies')\n",
    "stocks_df = ticker_df[0]\n",
    "#tickers = ['BAC', 'C', 'GS', 'JPM', 'MS', 'WFC']"
   ]
  },
  {
   "cell_type": "code",
   "execution_count": 17,
   "metadata": {},
   "outputs": [],
   "source": [
    "tickers = [tick for tick in stocks_df['Symbol']]"
   ]
  },
  {
   "cell_type": "code",
   "execution_count": 18,
   "metadata": {},
   "outputs": [
    {
     "data": {
      "text/html": [
       "<div>\n",
       "<style scoped>\n",
       "    .dataframe tbody tr th:only-of-type {\n",
       "        vertical-align: middle;\n",
       "    }\n",
       "\n",
       "    .dataframe tbody tr th {\n",
       "        vertical-align: top;\n",
       "    }\n",
       "\n",
       "    .dataframe thead th {\n",
       "        text-align: right;\n",
       "    }\n",
       "</style>\n",
       "<table border=\"1\" class=\"dataframe\">\n",
       "  <thead>\n",
       "    <tr style=\"text-align: right;\">\n",
       "      <th></th>\n",
       "      <th>Symbol</th>\n",
       "      <th>Security</th>\n",
       "      <th>SEC filings</th>\n",
       "      <th>GICS Sector</th>\n",
       "      <th>GICS Sub Industry</th>\n",
       "      <th>Headquarters Location</th>\n",
       "      <th>Date first added</th>\n",
       "      <th>CIK</th>\n",
       "      <th>Founded</th>\n",
       "    </tr>\n",
       "  </thead>\n",
       "  <tbody>\n",
       "    <tr>\n",
       "      <th>0</th>\n",
       "      <td>MMM</td>\n",
       "      <td>3M Company</td>\n",
       "      <td>reports</td>\n",
       "      <td>Industrials</td>\n",
       "      <td>Industrial Conglomerates</td>\n",
       "      <td>St. Paul, Minnesota</td>\n",
       "      <td>1976-08-09</td>\n",
       "      <td>66740</td>\n",
       "      <td>1902</td>\n",
       "    </tr>\n",
       "    <tr>\n",
       "      <th>1</th>\n",
       "      <td>ABT</td>\n",
       "      <td>Abbott Laboratories</td>\n",
       "      <td>reports</td>\n",
       "      <td>Health Care</td>\n",
       "      <td>Health Care Equipment</td>\n",
       "      <td>North Chicago, Illinois</td>\n",
       "      <td>1964-03-31</td>\n",
       "      <td>1800</td>\n",
       "      <td>1888</td>\n",
       "    </tr>\n",
       "    <tr>\n",
       "      <th>2</th>\n",
       "      <td>ABBV</td>\n",
       "      <td>AbbVie Inc.</td>\n",
       "      <td>reports</td>\n",
       "      <td>Health Care</td>\n",
       "      <td>Pharmaceuticals</td>\n",
       "      <td>North Chicago, Illinois</td>\n",
       "      <td>2012-12-31</td>\n",
       "      <td>1551152</td>\n",
       "      <td>2013 (1888)</td>\n",
       "    </tr>\n",
       "    <tr>\n",
       "      <th>3</th>\n",
       "      <td>ABMD</td>\n",
       "      <td>ABIOMED Inc</td>\n",
       "      <td>reports</td>\n",
       "      <td>Health Care</td>\n",
       "      <td>Health Care Equipment</td>\n",
       "      <td>Danvers, Massachusetts</td>\n",
       "      <td>2018-05-31</td>\n",
       "      <td>815094</td>\n",
       "      <td>1981</td>\n",
       "    </tr>\n",
       "    <tr>\n",
       "      <th>4</th>\n",
       "      <td>ACN</td>\n",
       "      <td>Accenture plc</td>\n",
       "      <td>reports</td>\n",
       "      <td>Information Technology</td>\n",
       "      <td>IT Consulting &amp; Other Services</td>\n",
       "      <td>Dublin, Ireland</td>\n",
       "      <td>2011-07-06</td>\n",
       "      <td>1467373</td>\n",
       "      <td>1989</td>\n",
       "    </tr>\n",
       "    <tr>\n",
       "      <th>...</th>\n",
       "      <td>...</td>\n",
       "      <td>...</td>\n",
       "      <td>...</td>\n",
       "      <td>...</td>\n",
       "      <td>...</td>\n",
       "      <td>...</td>\n",
       "      <td>...</td>\n",
       "      <td>...</td>\n",
       "      <td>...</td>\n",
       "    </tr>\n",
       "    <tr>\n",
       "      <th>500</th>\n",
       "      <td>YUM</td>\n",
       "      <td>Yum! Brands Inc</td>\n",
       "      <td>reports</td>\n",
       "      <td>Consumer Discretionary</td>\n",
       "      <td>Restaurants</td>\n",
       "      <td>Louisville, Kentucky</td>\n",
       "      <td>1997-10-06</td>\n",
       "      <td>1041061</td>\n",
       "      <td>NaN</td>\n",
       "    </tr>\n",
       "    <tr>\n",
       "      <th>501</th>\n",
       "      <td>ZBRA</td>\n",
       "      <td>Zebra Technologies</td>\n",
       "      <td>reports</td>\n",
       "      <td>Information Technology</td>\n",
       "      <td>Electronic Equipment &amp; Instruments</td>\n",
       "      <td>Lincolnshire, Illinois</td>\n",
       "      <td>2019-12-23</td>\n",
       "      <td>877212</td>\n",
       "      <td>1969</td>\n",
       "    </tr>\n",
       "    <tr>\n",
       "      <th>502</th>\n",
       "      <td>ZBH</td>\n",
       "      <td>Zimmer Biomet Holdings</td>\n",
       "      <td>reports</td>\n",
       "      <td>Health Care</td>\n",
       "      <td>Health Care Equipment</td>\n",
       "      <td>Warsaw, Indiana</td>\n",
       "      <td>2001-08-07</td>\n",
       "      <td>1136869</td>\n",
       "      <td>NaN</td>\n",
       "    </tr>\n",
       "    <tr>\n",
       "      <th>503</th>\n",
       "      <td>ZION</td>\n",
       "      <td>Zions Bancorp</td>\n",
       "      <td>reports</td>\n",
       "      <td>Financials</td>\n",
       "      <td>Regional Banks</td>\n",
       "      <td>Salt Lake City, Utah</td>\n",
       "      <td>2001-06-22</td>\n",
       "      <td>109380</td>\n",
       "      <td>NaN</td>\n",
       "    </tr>\n",
       "    <tr>\n",
       "      <th>504</th>\n",
       "      <td>ZTS</td>\n",
       "      <td>Zoetis</td>\n",
       "      <td>reports</td>\n",
       "      <td>Health Care</td>\n",
       "      <td>Pharmaceuticals</td>\n",
       "      <td>Florham Park, New Jersey</td>\n",
       "      <td>2013-06-21</td>\n",
       "      <td>1555280</td>\n",
       "      <td>NaN</td>\n",
       "    </tr>\n",
       "  </tbody>\n",
       "</table>\n",
       "<p>505 rows × 9 columns</p>\n",
       "</div>"
      ],
      "text/plain": [
       "    Symbol                Security SEC filings             GICS Sector  \\\n",
       "0      MMM              3M Company     reports             Industrials   \n",
       "1      ABT     Abbott Laboratories     reports             Health Care   \n",
       "2     ABBV             AbbVie Inc.     reports             Health Care   \n",
       "3     ABMD             ABIOMED Inc     reports             Health Care   \n",
       "4      ACN           Accenture plc     reports  Information Technology   \n",
       "..     ...                     ...         ...                     ...   \n",
       "500    YUM         Yum! Brands Inc     reports  Consumer Discretionary   \n",
       "501   ZBRA      Zebra Technologies     reports  Information Technology   \n",
       "502    ZBH  Zimmer Biomet Holdings     reports             Health Care   \n",
       "503   ZION           Zions Bancorp     reports              Financials   \n",
       "504    ZTS                  Zoetis     reports             Health Care   \n",
       "\n",
       "                      GICS Sub Industry     Headquarters Location  \\\n",
       "0              Industrial Conglomerates       St. Paul, Minnesota   \n",
       "1                 Health Care Equipment   North Chicago, Illinois   \n",
       "2                       Pharmaceuticals   North Chicago, Illinois   \n",
       "3                 Health Care Equipment    Danvers, Massachusetts   \n",
       "4        IT Consulting & Other Services           Dublin, Ireland   \n",
       "..                                  ...                       ...   \n",
       "500                         Restaurants      Louisville, Kentucky   \n",
       "501  Electronic Equipment & Instruments    Lincolnshire, Illinois   \n",
       "502               Health Care Equipment           Warsaw, Indiana   \n",
       "503                      Regional Banks      Salt Lake City, Utah   \n",
       "504                     Pharmaceuticals  Florham Park, New Jersey   \n",
       "\n",
       "    Date first added      CIK      Founded  \n",
       "0         1976-08-09    66740         1902  \n",
       "1         1964-03-31     1800         1888  \n",
       "2         2012-12-31  1551152  2013 (1888)  \n",
       "3         2018-05-31   815094         1981  \n",
       "4         2011-07-06  1467373         1989  \n",
       "..               ...      ...          ...  \n",
       "500       1997-10-06  1041061          NaN  \n",
       "501       2019-12-23   877212         1969  \n",
       "502       2001-08-07  1136869          NaN  \n",
       "503       2001-06-22   109380          NaN  \n",
       "504       2013-06-21  1555280          NaN  \n",
       "\n",
       "[505 rows x 9 columns]"
      ]
     },
     "execution_count": 18,
     "metadata": {},
     "output_type": "execute_result"
    }
   ],
   "source": [
    "stocks_df"
   ]
  },
  {
   "cell_type": "code",
   "execution_count": 117,
   "metadata": {},
   "outputs": [
    {
     "data": {
      "text/plain": [
       "{'Communication Services',\n",
       " 'Consumer Discretionary',\n",
       " 'Consumer Staples',\n",
       " 'Energy',\n",
       " 'Financials',\n",
       " 'Health Care',\n",
       " 'Industrials',\n",
       " 'Information Technology',\n",
       " 'Materials',\n",
       " 'Real Estate',\n",
       " 'Utilities'}"
      ]
     },
     "execution_count": 117,
     "metadata": {},
     "output_type": "execute_result"
    }
   ],
   "source": [
    "# Different sectors\n",
    "set(stocks_df['GICS Sector'])"
   ]
  },
  {
   "cell_type": "code",
   "execution_count": 52,
   "metadata": {},
   "outputs": [
    {
     "name": "stdout",
     "output_type": "stream",
     "text": [
      "Exception occured for -   BRK.B\n",
      "Exception occured for -   BF.B\n",
      "Exception occured for -   RTX\n",
      "Exception occured for -   STX\n",
      "Exception occured for -   VIAC\n"
     ]
    }
   ],
   "source": [
    "stock_dict = {}\n",
    "\n",
    "for tick in tickers:\n",
    "    try:\n",
    "        stock_dict[tick] = get_stocks(tick)\n",
    "    except:\n",
    "        print('Exception occured for -  ', tick)"
   ]
  },
  {
   "cell_type": "code",
   "execution_count": 53,
   "metadata": {},
   "outputs": [
    {
     "data": {
      "text/plain": [
       "500"
      ]
     },
     "execution_count": 53,
     "metadata": {},
     "output_type": "execute_result"
    }
   ],
   "source": [
    "len(stock_dict.keys())"
   ]
  },
  {
   "cell_type": "code",
   "execution_count": 54,
   "metadata": {},
   "outputs": [],
   "source": [
    "returns = pd.DataFrame()\n",
    "\n",
    "for key in stock_dict.keys():\n",
    "    returns[key + ' Return'] = stock_dict[key]['Adj Close'].pct_change()"
   ]
  },
  {
   "cell_type": "code",
   "execution_count": 55,
   "metadata": {},
   "outputs": [
    {
     "data": {
      "text/html": [
       "<div>\n",
       "<style scoped>\n",
       "    .dataframe tbody tr th:only-of-type {\n",
       "        vertical-align: middle;\n",
       "    }\n",
       "\n",
       "    .dataframe tbody tr th {\n",
       "        vertical-align: top;\n",
       "    }\n",
       "\n",
       "    .dataframe thead th {\n",
       "        text-align: right;\n",
       "    }\n",
       "</style>\n",
       "<table border=\"1\" class=\"dataframe\">\n",
       "  <thead>\n",
       "    <tr style=\"text-align: right;\">\n",
       "      <th></th>\n",
       "      <th>MMM Return</th>\n",
       "      <th>ABT Return</th>\n",
       "      <th>ABBV Return</th>\n",
       "      <th>ABMD Return</th>\n",
       "      <th>ACN Return</th>\n",
       "      <th>ATVI Return</th>\n",
       "      <th>ADBE Return</th>\n",
       "      <th>AMD Return</th>\n",
       "      <th>AAP Return</th>\n",
       "      <th>AES Return</th>\n",
       "      <th>...</th>\n",
       "      <th>WYNN Return</th>\n",
       "      <th>XEL Return</th>\n",
       "      <th>XRX Return</th>\n",
       "      <th>XLNX Return</th>\n",
       "      <th>XYL Return</th>\n",
       "      <th>YUM Return</th>\n",
       "      <th>ZBRA Return</th>\n",
       "      <th>ZBH Return</th>\n",
       "      <th>ZION Return</th>\n",
       "      <th>ZTS Return</th>\n",
       "    </tr>\n",
       "    <tr>\n",
       "      <th>Date</th>\n",
       "      <th></th>\n",
       "      <th></th>\n",
       "      <th></th>\n",
       "      <th></th>\n",
       "      <th></th>\n",
       "      <th></th>\n",
       "      <th></th>\n",
       "      <th></th>\n",
       "      <th></th>\n",
       "      <th></th>\n",
       "      <th></th>\n",
       "      <th></th>\n",
       "      <th></th>\n",
       "      <th></th>\n",
       "      <th></th>\n",
       "      <th></th>\n",
       "      <th></th>\n",
       "      <th></th>\n",
       "      <th></th>\n",
       "      <th></th>\n",
       "      <th></th>\n",
       "    </tr>\n",
       "  </thead>\n",
       "  <tbody>\n",
       "    <tr>\n",
       "      <th>2019-12-02</th>\n",
       "      <td>NaN</td>\n",
       "      <td>NaN</td>\n",
       "      <td>NaN</td>\n",
       "      <td>NaN</td>\n",
       "      <td>NaN</td>\n",
       "      <td>NaN</td>\n",
       "      <td>NaN</td>\n",
       "      <td>NaN</td>\n",
       "      <td>NaN</td>\n",
       "      <td>NaN</td>\n",
       "      <td>...</td>\n",
       "      <td>NaN</td>\n",
       "      <td>NaN</td>\n",
       "      <td>NaN</td>\n",
       "      <td>NaN</td>\n",
       "      <td>NaN</td>\n",
       "      <td>NaN</td>\n",
       "      <td>NaN</td>\n",
       "      <td>NaN</td>\n",
       "      <td>NaN</td>\n",
       "      <td>NaN</td>\n",
       "    </tr>\n",
       "    <tr>\n",
       "      <th>2019-12-03</th>\n",
       "      <td>-0.018423</td>\n",
       "      <td>-0.001775</td>\n",
       "      <td>-0.012410</td>\n",
       "      <td>-0.005567</td>\n",
       "      <td>-0.004209</td>\n",
       "      <td>0.006638</td>\n",
       "      <td>0.003832</td>\n",
       "      <td>0.004389</td>\n",
       "      <td>-0.025168</td>\n",
       "      <td>-0.004228</td>\n",
       "      <td>...</td>\n",
       "      <td>-0.023369</td>\n",
       "      <td>0.004248</td>\n",
       "      <td>-0.006493</td>\n",
       "      <td>-0.017946</td>\n",
       "      <td>-0.013194</td>\n",
       "      <td>-0.011038</td>\n",
       "      <td>-0.001238</td>\n",
       "      <td>-0.007338</td>\n",
       "      <td>-0.018788</td>\n",
       "      <td>0.005170</td>\n",
       "    </tr>\n",
       "    <tr>\n",
       "      <th>2019-12-04</th>\n",
       "      <td>0.011927</td>\n",
       "      <td>0.009720</td>\n",
       "      <td>0.014543</td>\n",
       "      <td>0.014334</td>\n",
       "      <td>0.004176</td>\n",
       "      <td>-0.013006</td>\n",
       "      <td>-0.004607</td>\n",
       "      <td>0.020308</td>\n",
       "      <td>-0.001835</td>\n",
       "      <td>0.003185</td>\n",
       "      <td>...</td>\n",
       "      <td>0.018353</td>\n",
       "      <td>0.008949</td>\n",
       "      <td>0.002614</td>\n",
       "      <td>0.017146</td>\n",
       "      <td>-0.002118</td>\n",
       "      <td>-0.002514</td>\n",
       "      <td>0.012395</td>\n",
       "      <td>0.034658</td>\n",
       "      <td>0.011118</td>\n",
       "      <td>-0.006554</td>\n",
       "    </tr>\n",
       "    <tr>\n",
       "      <th>2019-12-05</th>\n",
       "      <td>-0.016573</td>\n",
       "      <td>0.000704</td>\n",
       "      <td>-0.005505</td>\n",
       "      <td>-0.024859</td>\n",
       "      <td>0.001353</td>\n",
       "      <td>0.020601</td>\n",
       "      <td>0.001719</td>\n",
       "      <td>-0.001764</td>\n",
       "      <td>-0.000263</td>\n",
       "      <td>-0.004762</td>\n",
       "      <td>...</td>\n",
       "      <td>-0.003958</td>\n",
       "      <td>0.002096</td>\n",
       "      <td>-0.013820</td>\n",
       "      <td>0.005545</td>\n",
       "      <td>-0.006235</td>\n",
       "      <td>-0.006855</td>\n",
       "      <td>-0.006279</td>\n",
       "      <td>-0.005055</td>\n",
       "      <td>0.003869</td>\n",
       "      <td>0.003090</td>\n",
       "    </tr>\n",
       "    <tr>\n",
       "      <th>2019-12-06</th>\n",
       "      <td>0.043195</td>\n",
       "      <td>0.002816</td>\n",
       "      <td>0.002998</td>\n",
       "      <td>0.000793</td>\n",
       "      <td>0.013510</td>\n",
       "      <td>0.004001</td>\n",
       "      <td>0.010560</td>\n",
       "      <td>0.000252</td>\n",
       "      <td>0.015300</td>\n",
       "      <td>-0.004785</td>\n",
       "      <td>...</td>\n",
       "      <td>0.028832</td>\n",
       "      <td>-0.002253</td>\n",
       "      <td>-0.001322</td>\n",
       "      <td>0.013125</td>\n",
       "      <td>0.005473</td>\n",
       "      <td>0.002538</td>\n",
       "      <td>0.021064</td>\n",
       "      <td>0.006165</td>\n",
       "      <td>0.008316</td>\n",
       "      <td>0.013404</td>\n",
       "    </tr>\n",
       "  </tbody>\n",
       "</table>\n",
       "<p>5 rows × 500 columns</p>\n",
       "</div>"
      ],
      "text/plain": [
       "            MMM Return  ABT Return  ABBV Return  ABMD Return  ACN Return  \\\n",
       "Date                                                                       \n",
       "2019-12-02         NaN         NaN          NaN          NaN         NaN   \n",
       "2019-12-03   -0.018423   -0.001775    -0.012410    -0.005567   -0.004209   \n",
       "2019-12-04    0.011927    0.009720     0.014543     0.014334    0.004176   \n",
       "2019-12-05   -0.016573    0.000704    -0.005505    -0.024859    0.001353   \n",
       "2019-12-06    0.043195    0.002816     0.002998     0.000793    0.013510   \n",
       "\n",
       "            ATVI Return  ADBE Return  AMD Return  AAP Return  AES Return  ...  \\\n",
       "Date                                                                      ...   \n",
       "2019-12-02          NaN          NaN         NaN         NaN         NaN  ...   \n",
       "2019-12-03     0.006638     0.003832    0.004389   -0.025168   -0.004228  ...   \n",
       "2019-12-04    -0.013006    -0.004607    0.020308   -0.001835    0.003185  ...   \n",
       "2019-12-05     0.020601     0.001719   -0.001764   -0.000263   -0.004762  ...   \n",
       "2019-12-06     0.004001     0.010560    0.000252    0.015300   -0.004785  ...   \n",
       "\n",
       "            WYNN Return  XEL Return  XRX Return  XLNX Return  XYL Return  \\\n",
       "Date                                                                       \n",
       "2019-12-02          NaN         NaN         NaN          NaN         NaN   \n",
       "2019-12-03    -0.023369    0.004248   -0.006493    -0.017946   -0.013194   \n",
       "2019-12-04     0.018353    0.008949    0.002614     0.017146   -0.002118   \n",
       "2019-12-05    -0.003958    0.002096   -0.013820     0.005545   -0.006235   \n",
       "2019-12-06     0.028832   -0.002253   -0.001322     0.013125    0.005473   \n",
       "\n",
       "            YUM Return  ZBRA Return  ZBH Return  ZION Return  ZTS Return  \n",
       "Date                                                                      \n",
       "2019-12-02         NaN          NaN         NaN          NaN         NaN  \n",
       "2019-12-03   -0.011038    -0.001238   -0.007338    -0.018788    0.005170  \n",
       "2019-12-04   -0.002514     0.012395    0.034658     0.011118   -0.006554  \n",
       "2019-12-05   -0.006855    -0.006279   -0.005055     0.003869    0.003090  \n",
       "2019-12-06    0.002538     0.021064    0.006165     0.008316    0.013404  \n",
       "\n",
       "[5 rows x 500 columns]"
      ]
     },
     "execution_count": 55,
     "metadata": {},
     "output_type": "execute_result"
    }
   ],
   "source": [
    "returns.head()"
   ]
  },
  {
   "cell_type": "code",
   "execution_count": 91,
   "metadata": {},
   "outputs": [
    {
     "data": {
      "text/plain": [
       "defaultdict(None,\n",
       "            {'2020-03-12': 82,\n",
       "             '2020-03-16': 245,\n",
       "             '2020-01-13': 1,\n",
       "             '2020-03-18': 50,\n",
       "             '2020-03-09': 47,\n",
       "             '2020-03-20': 27,\n",
       "             '2020-04-01': 4,\n",
       "             '2020-03-27': 4,\n",
       "             '2020-03-23': 14,\n",
       "             '2020-02-06': 1,\n",
       "             '2020-03-19': 4,\n",
       "             '2020-03-25': 2,\n",
       "             '2020-04-02': 1,\n",
       "             '2020-01-03': 1,\n",
       "             '2020-03-02': 2,\n",
       "             '2019-12-16': 1,\n",
       "             '2020-03-11': 2,\n",
       "             '2020-03-13': 1,\n",
       "             'NaT': 7,\n",
       "             '2020-02-27': 1,\n",
       "             '2020-02-07': 1,\n",
       "             '2020-02-11': 1,\n",
       "             '2020-01-29': 1})"
      ]
     },
     "execution_count": 91,
     "metadata": {},
     "output_type": "execute_result"
    }
   ],
   "source": [
    "# Worst Drop \n",
    "\n",
    "drop = defaultdict()\n",
    "\n",
    "for date in returns.idxmin():\n",
    "    if str(date).split()[0] in drop.keys():\n",
    "        drop[str(date).split()[0]] += 1\n",
    "    else:\n",
    "        drop[str(date).split()[0]] = 1\n",
    "        \n",
    "drop"
   ]
  },
  {
   "cell_type": "code",
   "execution_count": 72,
   "metadata": {},
   "outputs": [
    {
     "data": {
      "text/html": [
       "<div>\n",
       "<style scoped>\n",
       "    .dataframe tbody tr th:only-of-type {\n",
       "        vertical-align: middle;\n",
       "    }\n",
       "\n",
       "    .dataframe tbody tr th {\n",
       "        vertical-align: top;\n",
       "    }\n",
       "\n",
       "    .dataframe thead th {\n",
       "        text-align: right;\n",
       "    }\n",
       "</style>\n",
       "<table border=\"1\" class=\"dataframe\">\n",
       "  <thead>\n",
       "    <tr style=\"text-align: right;\">\n",
       "      <th></th>\n",
       "      <th>returns</th>\n",
       "    </tr>\n",
       "  </thead>\n",
       "  <tbody>\n",
       "    <tr>\n",
       "      <th>ARNC Return</th>\n",
       "      <td>0.135322</td>\n",
       "    </tr>\n",
       "    <tr>\n",
       "      <th>APA Return</th>\n",
       "      <td>0.102115</td>\n",
       "    </tr>\n",
       "    <tr>\n",
       "      <th>NCLH Return</th>\n",
       "      <td>0.095164</td>\n",
       "    </tr>\n",
       "    <tr>\n",
       "      <th>IR Return</th>\n",
       "      <td>0.088940</td>\n",
       "    </tr>\n",
       "    <tr>\n",
       "      <th>NBL Return</th>\n",
       "      <td>0.088233</td>\n",
       "    </tr>\n",
       "    <tr>\n",
       "      <th>CCL Return</th>\n",
       "      <td>0.086712</td>\n",
       "    </tr>\n",
       "    <tr>\n",
       "      <th>DXC Return</th>\n",
       "      <td>0.080454</td>\n",
       "    </tr>\n",
       "    <tr>\n",
       "      <th>OXY Return</th>\n",
       "      <td>0.080380</td>\n",
       "    </tr>\n",
       "    <tr>\n",
       "      <th>OKE Return</th>\n",
       "      <td>0.080324</td>\n",
       "    </tr>\n",
       "    <tr>\n",
       "      <th>RCL Return</th>\n",
       "      <td>0.079565</td>\n",
       "    </tr>\n",
       "  </tbody>\n",
       "</table>\n",
       "</div>"
      ],
      "text/plain": [
       "              returns\n",
       "ARNC Return  0.135322\n",
       "APA Return   0.102115\n",
       "NCLH Return  0.095164\n",
       "IR Return    0.088940\n",
       "NBL Return   0.088233\n",
       "CCL Return   0.086712\n",
       "DXC Return   0.080454\n",
       "OXY Return   0.080380\n",
       "OKE Return   0.080324\n",
       "RCL Return   0.079565"
      ]
     },
     "execution_count": 72,
     "metadata": {},
     "output_type": "execute_result"
    }
   ],
   "source": [
    "# checking volatility\n",
    "pd.DataFrame(returns.std(), columns = ['returns']).sort_values(by = 'returns', ascending=False).head(10)"
   ]
  },
  {
   "cell_type": "code",
   "execution_count": 74,
   "metadata": {},
   "outputs": [
    {
     "data": {
      "text/plain": [
       "<matplotlib.axes._subplots.AxesSubplot at 0x1a23165cd0>"
      ]
     },
     "execution_count": 74,
     "metadata": {},
     "output_type": "execute_result"
    },
    {
     "data": {
      "image/png": "[encoded data removed]",
      "text/plain": [
       "<Figure size 432x288 with 1 Axes>"
      ]
     },
     "metadata": {},
     "output_type": "display_data"
    }
   ],
   "source": [
    "sns.distplot(returns['AAPL Return'],color='green',bins=100)"
   ]
  },
  {
   "cell_type": "code",
   "execution_count": 75,
   "metadata": {},
   "outputs": [
    {
     "data": {
      "text/plain": [
       "<matplotlib.legend.Legend at 0x1a22fa7bd0>"
      ]
     },
     "execution_count": 75,
     "metadata": {},
     "output_type": "execute_result"
    },
    {
     "data": {
      "image/png": "[encoded data removed]",
      "text/plain": [
       "<Figure size 864x288 with 1 Axes>"
      ]
     },
     "metadata": {},
     "output_type": "display_data"
    }
   ],
   "source": [
    "tick = 'AAPL'\n",
    "stock_dict[tick]['Adj Close'].plot(figsize=(12,4),label=tick)\n",
    "plt.legend()"
   ]
  },
  {
   "cell_type": "code",
   "execution_count": 113,
   "metadata": {},
   "outputs": [],
   "source": [
    "# stocks at the biggest discount\n",
    "\n",
    "discount_dict = {}\n",
    "\n",
    "def calcualte_discount(df):\n",
    "    max_price = df['Adj Close'].describe()['75%']\n",
    "    min_price = df['Adj Close'].min()\n",
    "    return (max_price - min_price)/max_price\n",
    "    \n",
    "\n",
    "for tick in stock_dict.keys():\n",
    "#     discount_dict[tick] = (stock_dict[tick]['Adj Close'].max() - stock_dict[tick]['Adj Close'].min())/stock_dict[tick]['Adj Close'].max()\n",
    "    discount_dict[tick] = calcualte_discount(stock_dict[tick])"
   ]
  },
  {
   "cell_type": "code",
   "execution_count": 114,
   "metadata": {},
   "outputs": [
    {
     "data": {
      "text/plain": [
       "[(0.8655787787031876, 'NBL'),\n",
       " (0.8627996287856488, 'NCLH'),\n",
       " (0.8573329803725857, 'APA'),\n",
       " (0.853671185377224, 'IR'),\n",
       " (0.832595869689459, 'CCL'),\n",
       " (0.8245826730096102, 'RCL'),\n",
       " (0.8208436063391492, 'FANG'),\n",
       " (0.805380793622138, 'HAL'),\n",
       " (0.8021341917774678, 'ARNC'),\n",
       " (0.7982426780919094, 'CPRI'),\n",
       " (0.7952500400438898, 'OKE'),\n",
       " (0.7936596033208089, 'ADS'),\n",
       " (0.7816358654155009, 'MGM'),\n",
       " (0.7779280667757088, 'DVN'),\n",
       " (0.7628589996444297, 'OXY')]"
      ]
     },
     "execution_count": 114,
     "metadata": {},
     "output_type": "execute_result"
    }
   ],
   "source": [
    "sorted([(val, key) for key, val in discount_dict.items()], reverse = True)[:15]"
   ]
  },
  {
   "cell_type": "code",
   "execution_count": 110,
   "metadata": {},
   "outputs": [
    {
     "data": {
      "text/plain": [
       "count     86.000000\n",
       "mean     129.727842\n",
       "std       11.804019\n",
       "min       92.660004\n",
       "25%      121.808899\n",
       "50%      133.163788\n",
       "75%      138.339996\n",
       "max      144.940002\n",
       "Name: Adj Close, dtype: float64"
      ]
     },
     "execution_count": 110,
     "metadata": {},
     "output_type": "execute_result"
    }
   ],
   "source": [
    "stock_dict[tick]['Adj Close'].describe()"
   ]
  },
  {
   "cell_type": "code",
   "execution_count": null,
   "metadata": {},
   "outputs": [],
   "source": []
  }
 ],
 "metadata": {
  "kernelspec": {
   "display_name": "Python 3",
   "language": "python",
   "name": "python3"
  },
  "language_info": {
   "codemirror_mode": {
    "name": "ipython",
    "version": 3
   },
   "file_extension": ".py",
   "mimetype": "text/x-python",
   "name": "python",
   "nbconvert_exporter": "python",
   "pygments_lexer": "ipython3",
   "version": "3.7.7"
  }
 },
 "nbformat": 4,
 "nbformat_minor": 4
}
